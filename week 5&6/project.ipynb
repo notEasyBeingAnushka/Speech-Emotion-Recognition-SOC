{
 "cells": [
  {
   "cell_type": "markdown",
   "metadata": {},
   "source": [
    "-------------- Real Project Time -------------"
   ]
  },
  {
   "cell_type": "markdown",
   "metadata": {},
   "source": [
    "Use tensorflow.keras library for models. And you are free to use chatgpt here at this stage - Yayyyyyyyy\\\n",
    "Use it where you need help, not to complete the assignment lol"
   ]
  },
  {
   "cell_type": "code",
   "execution_count": 1,
   "metadata": {},
   "outputs": [],
   "source": [
    "#import libraries\n",
    "import numpy as np\n",
    "import librosa\n",
    "import os\n",
    "from sklearn.model_selection import train_test_split"
   ]
  },
  {
   "cell_type": "markdown",
   "metadata": {},
   "source": [
    "Define a function to extract features from the given filename. You will have to use librosa library for this. You can vary the features however you like. The preferred features are mfcc, chroma and melspectogram."
   ]
  },
  {
   "cell_type": "code",
   "execution_count": 5,
   "metadata": {},
   "outputs": [],
   "source": [
    "def extract_features(filename):\n",
    "    y, sr = librosa.load(filename)\n",
    "    features = {}\n",
    "    features['mfcc'] = librosa.feature.mfcc(y=y, sr=sr, n_mfcc=13).flatten()\n",
    "    features['chroma'] = librosa.feature.chroma_stft(y=y, sr=sr).flatten()\n",
    "    features['mel'] = librosa.feature.melspectrogram(y=y, sr=sr).flatten()\n",
    "    return features\n",
    "    # pass"
   ]
  },
  {
   "cell_type": "markdown",
   "metadata": {},
   "source": [
    "Now, load the data from the database.\n",
    "\n",
    "You can find the database from https://zenodo.org/records/1188976#.XsAXemgzaUk\n",
    "\n",
    "You need to only download the audio files and not the video files. Also, read up on the naming convention of the files from the webpage."
   ]
  },
  {
   "cell_type": "code",
   "execution_count": 36,
   "metadata": {},
   "outputs": [],
   "source": [
    "def load_data(test_size):\n",
    "    # directories = [\"Audio files Song\", \"Audio files Speech\"]\n",
    "    directories = [os.path.join(os.getcwd(), \"Audio files Song\"), os.path.join(os.getcwd(), \"Audio files Speech\")]\n",
    "    for directory in directories:\n",
    "        subdirectories = [name for name in os.listdir(directory) if os.path.isdir(os.path.join(directory, name))]\n",
    "    for subdirectory in subdirectories:\n",
    "        files = [os.path.join(directory, subdirectory, name) for name in os.listdir(os.path.join(directory, subdirectory))]\n",
    "    X = []\n",
    "    y = []\n",
    "    for file in files:\n",
    "        features = extract_features(file)\n",
    "        filename = os.path.basename(file)\n",
    "        emotion_code = int(filename.split(\"-\")[2])\n",
    "        emotion_one_hot = np.zeros(8)\n",
    "        emotion_one_hot[emotion_code - 1] = 1      \n",
    "        X.append(features)\n",
    "        y.append(emotion_one_hot)\n",
    "    \n",
    "    X = np.array(X)\n",
    "    y = np.array(y)\n",
    "    X_train, X_test, y_train, y_test = train_test_split(X, y, test_size=test_size)\n",
    "    return X_train, X_test, y_train, y_test\n",
    "    # pass"
   ]
  },
  {
   "cell_type": "markdown",
   "metadata": {},
   "source": [
    "Use the load_data function to load data and split the data using the train_test_split function."
   ]
  },
  {
   "cell_type": "code",
   "execution_count": 37,
   "metadata": {},
   "outputs": [],
   "source": [
    "#split the dataset into training and testing data with testing data = 0.2 of total data\n",
    "X_train, X_test, y_train, y_test = load_data(0.2)"
   ]
  },
  {
   "cell_type": "markdown",
   "metadata": {},
   "source": [
    "Now you need to define the model for this computation.\n",
    "For this, we will use simple neural network for this.\\\n",
    "The model will have a hidden layer of 300 nodes and an output layer of [number of emotions] nodes.\\\n",
    "You have to use relu as activation function for the hidden layer and softmax for the output layer.\\\n",
    "Keep the loss categorical-crossentropy, optimizer as adam and accuracy as metric.\\\n",
    "You can use batch-size as 256 and epochs as 300, but it is left upto you :)"
   ]
  },
  {
   "cell_type": "code",
   "execution_count": 8,
   "metadata": {},
   "outputs": [],
   "source": [
    "#define the model.\n",
    "model = None"
   ]
  },
  {
   "cell_type": "markdown",
   "metadata": {},
   "source": [
    "Now everything is easy-peezy. Just fit the model on training data as you usually do, predict for the testing data, print the accuracy. Hehe"
   ]
  },
  {
   "cell_type": "code",
   "execution_count": null,
   "metadata": {},
   "outputs": [],
   "source": [
    "#fit the model on training data with validation split of 0.2"
   ]
  },
  {
   "cell_type": "code",
   "execution_count": null,
   "metadata": {},
   "outputs": [],
   "source": [
    "#predict for testing data and printout the accuracy"
   ]
  },
  {
   "cell_type": "markdown",
   "metadata": {},
   "source": [
    "Now comes the learning part :)\\\n",
    "Here's a new thing. Print the classification report of your predictions."
   ]
  },
  {
   "cell_type": "code",
   "execution_count": null,
   "metadata": {},
   "outputs": [],
   "source": [
    "#print the classification report for the model\n",
    "from sklearn.metrics import classification_report\n",
    "# report = classification_report(y_test, y_pred)\n",
    "# print(report)"
   ]
  },
  {
   "cell_type": "markdown",
   "metadata": {},
   "source": [
    "Just for fun. You can explore on callbacks used in model.fit().\\\n",
    "For resources, you can go to https://keras.io/api/callbacks/ and explore on your own. Or just chatgpt :)\n",
    "Now try the model using EarlyStopping callback, LearningRateScheduler callback and ModelCheckpoint callback."
   ]
  },
  {
   "cell_type": "code",
   "execution_count": null,
   "metadata": {},
   "outputs": [],
   "source": [
    "#Have fun ..... you just completed the project"
   ]
  },
  {
   "cell_type": "markdown",
   "metadata": {},
   "source": [
    "The timeline for this is 2 weeks. In the last two weeks, we will be exploring further concepts in AIML or doing some fun activities in the field. Look forward to it :)"
   ]
  }
 ],
 "metadata": {
  "kernelspec": {
   "display_name": "Python 3",
   "language": "python",
   "name": "python3"
  },
  "language_info": {
   "codemirror_mode": {
    "name": "ipython",
    "version": 3
   },
   "file_extension": ".py",
   "mimetype": "text/x-python",
   "name": "python",
   "nbconvert_exporter": "python",
   "pygments_lexer": "ipython3",
   "version": "3.12.1"
  }
 },
 "nbformat": 4,
 "nbformat_minor": 2
}
