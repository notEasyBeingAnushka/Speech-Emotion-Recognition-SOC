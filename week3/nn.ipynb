{
 "cells": [
  {
   "cell_type": "markdown",
   "metadata": {},
   "source": [
    "Our objective is to build a neural network for the classification of the MNIST dataset. This neural network will comprise of: an output layer with 10 nodes, a hidden layer of 128 nodes, and an input layer with 784 nodes corresponding to the image pixels. The specific structure of the neural network is outlined below, where $X$ represents the input, $A^{[0]}$ denotes the first layer, $Z^{[1]}$ signifies the unactivated layer 1, $A^{[1]}$ stands for the activated layer 1, and so forth. The weights and biases are represented by $W$ and $b$ respectively:\n",
    "\n",
    "<div align=\"center\">\n",
    "\n",
    "$A^{[0]}=X$\n",
    "\n",
    "$Z^{[1]}=W^{[1]}A^{[0]}+b^{[1]}$\n",
    "\n",
    "$A^{[1]}=\\text{ReLU}(Z^{[1]})$\n",
    "\n",
    "$Z^{[2]}=W^{[2]}A^{[1]}+b^{[2]}$\n",
    "\n",
    "$A^{[2]}=\\text{softmax}(Z^{[2]})$\n",
    "\n",
    "$Loss=\\text{cross-entropy-loss}(A^{[2]})$\n",
    "</div>\n",
    "\n",
    "You have the flexibility to create any function within or outside the class, allowing you to modify parameters as needed"
   ]
  },
  {
   "cell_type": "code",
   "execution_count": 26,
   "metadata": {},
   "outputs": [],
   "source": [
    "import pandas as pd\n",
    "import numpy as np\n",
    "import tensorflow as tf\n",
    "mnist = tf.keras.datasets.mnist\n",
    "import matplotlib.pyplot as plt\n",
    "from sklearn.metrics import accuracy_score"
   ]
  },
  {
   "cell_type": "markdown",
   "metadata": {},
   "source": [
    "Now you will implement the activation function(ReLU) and softmax function"
   ]
  },
  {
   "cell_type": "code",
   "execution_count": 27,
   "metadata": {},
   "outputs": [],
   "source": [
    "def ReLU(Z):\n",
    "    f = np.maximum(0, Z)\n",
    "    return f\n",
    "    # pass\n",
    "\n",
    "def softmax(Z):\n",
    "    f = np.exp(Z - np.max(Z, axis=0)) \n",
    "    return f/np.sum(f, axis=0)\n",
    "    # pass"
   ]
  },
  {
   "cell_type": "markdown",
   "metadata": {},
   "source": [
    "Now comes the important part.\n",
    "\n",
    "In this, you will implement the NN class, which will be the model you will be using to train data on and later use it to predict.\n",
    "\n",
    "You have been given the init function, you have to implement all the other functions yourself, in any way you like ... you may even skip some of them if you don't need them in the final implementation of the class.\n",
    "\n",
    "The description of each function has been given in the comments"
   ]
  },
  {
   "cell_type": "code",
   "execution_count": 46,
   "metadata": {},
   "outputs": [],
   "source": [
    "class NN:\n",
    "    def __init__(self, input_size, hidden_size, output_size, learning_rate=0.01):\n",
    "        # initialized basic stats of NN\n",
    "        self.input_size=input_size\n",
    "        self.hidden_size=hidden_size\n",
    "        self.output_size=output_size\n",
    "        self.learning_rate=learning_rate\n",
    "\n",
    "        #initialized weights and biases\n",
    "        self.W1=np.random.randn(hidden_size, input_size)*0.01\n",
    "        self.b1= np.zeros((hidden_size, 1))\n",
    "        self.W2=np.random.randn(output_size, hidden_size)*0.01\n",
    "        self.b2=np.zeros((output_size, 1))\n",
    "\n",
    "        #initialized activations and gradients\n",
    "        self.A0=None\n",
    "        self.Z1=None\n",
    "        self.A1=None\n",
    "        self.Z2=None\n",
    "        self.A2=None\n",
    "        self.dW2=None\n",
    "        self.db2=None\n",
    "        self.dW1=None\n",
    "        self.db1=None\n",
    "\n",
    "    # do the forward pass and evaluate the values of A0, Z1, A1, Z2, A2\n",
    "    def forward_propagation(self, X):\n",
    "        self.A0 = X\n",
    "        self.Z1 = np.dot(self.W1, self.A0) + self.b1\n",
    "        self.A1 = ReLU(self.Z1)\n",
    "        self.Z2 = np.dot(self.W2, self.A1) + self.b2\n",
    "        self.A2 = softmax(self.Z2)\n",
    "        # pass\n",
    "    \n",
    "    # convert the input y, into a one hot encoded array.\n",
    "    '''\n",
    "    one hot encoding is:\n",
    "    you have an array with values [2, 5, 6] and you know the max value can be 8, then one hot encoded array will be:\n",
    "    [[0,0,1,0,0,0,0,0,0], [0,0,0,0,0,1,0,0,0], [0,0,0,0,0,0,1,0,0]]\n",
    "    Note that the index 2, 5, 6 have values 1 and all others have values 0\n",
    "    '''\n",
    "    def one_hot(self, y):\n",
    "        one_hot = np.zeros((y.shape[0], self.output_size))\n",
    "        one_hot[np.arange(y.shape[0]), y] = 1\n",
    "        return one_hot\n",
    "        # pass\n",
    "\n",
    "    # calculate the derivative of the loss function with respect to W2, b2, W1, b1 in dW2, db2, dW1, db1 respectively\n",
    "    def backward_propagation(self, X, y):\n",
    "        self.dW2 = np.dot((self.A2 - self.one_hot(y).T), self.A1.T)/X.shape[1]\n",
    "        self.db2 = np.sum(self.A2 - self.one_hot(y).T, axis=1, keepdims=True)/X.shape[1]\n",
    "        dZ1 = np.dot(self.W2.T, (self.A2 - self.one_hot(y).T))*(self.Z1 >0)\n",
    "        self.dW1 = np.dot(dZ1, self.A0.T)/X.shape[1]\n",
    "        self.db1 = np.sum(dZ1, axis=1, keepdims=True)/X.shape[1]\n",
    "        # pass\n",
    "    \n",
    "    # update the parameters W1, W2, b1, b2\n",
    "    def update_params(self):\n",
    "        self.W2 = self.W2 - self.learning_rate*self.dW2\n",
    "        self.b2 = self.b2 - self.learning_rate*self.db2\n",
    "        self.W1 = self.W1 - self.learning_rate*self.dW1\n",
    "        self.b1 = self.b1 - self.learning_rate*self.db1\n",
    "        # pass\n",
    "    \n",
    "    # get the predictions for the dataset\n",
    "    def get_predictions(self):\n",
    "        predictions = np.argmax(self.A2, axis=0)\n",
    "        return predictions\n",
    "        # pass\n",
    "\n",
    "    # get the accuracy of the model on the dataset\n",
    "    def get_accuracy(self, X, y):\n",
    "        self.forward_propagation(X)\n",
    "        predictions = self.get_predictions()\n",
    "        accuracy = accuracy_score(y, predictions)\n",
    "        return accuracy\n",
    "        # pass\n",
    "\n",
    "    # run gradient descent on the model to get the values of the parameters\n",
    "    def gradient_descent(self, X, y, iters=1000):\n",
    "        for i in range(iters):\n",
    "            self.forward_propagation(X)\n",
    "            self.backward_propagation(X, y)\n",
    "            self.update_params()\n",
    "        # pass\n",
    "    \n",
    "    # evaluate loss using cross-entropy-loss formula.\n",
    "    def cross_entropy_loss(self, X, y):\n",
    "        self.forward_propagation(X)\n",
    "        loss = -np.sum(np.log(self.A2 + 1e-8)*self.one_hot(y).T)/X.shape[1]\n",
    "        return loss\n",
    "        # pass\n",
    "\n",
    "    # Let me help a bit hehe :)\n",
    "    def show_predictions(self, X, y, num_samples=10):\n",
    "        random_indices = np.random.randint(0, X.shape[0], size=num_samples)\n",
    "\n",
    "        for index in random_indices:\n",
    "            sample_image = X[index, :].reshape((28, 28))\n",
    "            plt.imshow(sample_image, cmap='gray')\n",
    "            plt.title(f\"Actual: {y[index]}, Predicted: {self.get_predictions()[index]}\")\n",
    "            plt.show()"
   ]
  },
  {
   "cell_type": "markdown",
   "metadata": {},
   "source": [
    "Now we are splitting the dataset into training and testing data"
   ]
  },
  {
   "cell_type": "code",
   "execution_count": 47,
   "metadata": {},
   "outputs": [],
   "source": [
    "(X_train, Y_train), (X_test, Y_test) = mnist.load_data()\n",
    "\n",
    "miu = np.mean(X_train, axis=(0, 1), keepdims=True)\n",
    "stds = np.std(X_train, axis=(0, 1), keepdims=True)\n",
    "\n",
    "mius = np.mean(X_test, axis=(0, 1), keepdims=True)\n",
    "stdse = np.std(X_test, axis=(0, 1), keepdims=True)\n",
    "\n",
    "X_normal_train = (X_train - miu) / (stds + 1e-7)\n",
    "X_normal_test = (X_test - mius) / (stdse + 1e-7)\n",
    "\n",
    "X_normal_train = X_normal_train.reshape((60000, -1)).T\n",
    "X_normal_test = X_normal_test.reshape((10000, -1)).T"
   ]
  },
  {
   "cell_type": "markdown",
   "metadata": {},
   "source": [
    "Now you will train the model on X_normal_train and Y_train dataset\n",
    "\n",
    "Then print the accuracy of model on X_normal_test and Y_test dataset"
   ]
  },
  {
   "cell_type": "code",
   "execution_count": 48,
   "metadata": {},
   "outputs": [
    {
     "name": "stdout",
     "output_type": "stream",
     "text": [
      "0.9037\n"
     ]
    }
   ],
   "source": [
    "# All the best :)\n",
    "nn = NN(784, 128, 10, 0.01)\n",
    "nn.gradient_descent(X_normal_train, Y_train, 1000)\n",
    "print(nn.get_accuracy(X_normal_test, Y_test))\n",
    "pass"
   ]
  }
 ],
 "metadata": {
  "kernelspec": {
   "display_name": "Python 3",
   "language": "python",
   "name": "python3"
  },
  "language_info": {
   "codemirror_mode": {
    "name": "ipython",
    "version": 3
   },
   "file_extension": ".py",
   "mimetype": "text/x-python",
   "name": "python",
   "nbconvert_exporter": "python",
   "pygments_lexer": "ipython3",
   "version": "3.12.1"
  }
 },
 "nbformat": 4,
 "nbformat_minor": 2
}
